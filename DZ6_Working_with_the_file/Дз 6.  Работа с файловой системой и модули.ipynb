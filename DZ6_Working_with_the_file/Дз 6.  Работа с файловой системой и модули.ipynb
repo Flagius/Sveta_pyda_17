{
 "cells": [
  {
   "cell_type": "markdown",
   "metadata": {},
   "source": [
    "** Домашнее задание по лекции находится во вкладке Материалы к лекции Работа с файловой системой и модули, в конце файла с кодом (задача на доработку темы занятия).\n",
    "Готовое решение необходимо прикрепить в эту вкладку.**\n",
    "\n",
    "\n",
    "\n",
    "Задача 1\n",
    "Переведите содержимое файла purchase_log.txt в словарь purchases вида:\n",
    "{‘1840e0b9d4’: ‘Продукты’, …}"
   ]
  },
  {
   "cell_type": "code",
   "execution_count": 10,
   "metadata": {},
   "outputs": [
    {
     "name": "stderr",
     "output_type": "stream",
     "text": [
      "IOPub data rate exceeded.\n",
      "The notebook server will temporarily stop sending output\n",
      "to the client in order to avoid crashing it.\n",
      "To change this limit, set the config variable\n",
      "`--NotebookApp.iopub_data_rate_limit`.\n",
      "\n",
      "Current values:\n",
      "NotebookApp.iopub_data_rate_limit=1000000.0 (bytes/sec)\n",
      "NotebookApp.rate_limit_window=3.0 (secs)\n",
      "\n"
     ]
    }
   ],
   "source": [
    "import json # импортируем\n",
    "\n",
    "new_dict = {}  # создаем новый словарь\n",
    "with open('D:/DS-25/Pyton/Downloads/purchase_log.txt', 'r', encoding = 'utf-8') as fp: # прописываем путь полностью( не рабочая директория)\n",
    "    for line1 in fp:  # перебираем строчки \n",
    "        line1 = line1.strip()  # удаляем пробелы\n",
    "        dict1 = json.loads(line1) # данной строкой возвращаем словарь для каждой строчки\n",
    "        key = dict1['user_id']  # создаем ключ для \n",
    "        value = dict1['category'] # создаем значение\n",
    "        if key != 'user_id':\n",
    "            new_dict[key] = value  # добавляем ключи\n",
    "print(new_dict)   # слишком большой ответ. Не отобразится. "
   ]
  },
  {
   "cell_type": "markdown",
   "metadata": {},
   "source": [
    "Рабочая / не рабочая директория\n",
    "\n",
    "Если директория не рабочая путь пишется полностью\n",
    "Если директория рабочая, то сокращенно\n",
    "Узнать рабочую директорию можно: чтобы посмотреть используемый путь запустите ячейку с кодом pwd ( по умолчанию (c:\\users\\...),)"
   ]
  },
  {
   "cell_type": "markdown",
   "metadata": {},
   "source": [
    "Разница with open и open\n",
    "\n",
    "\n",
    "Оператор with создает диспетчер контекста в Пайтоне, который автоматически закрывает файл для вас, по окончанию работы в нем. Посмотрим, как это работает:\n",
    "with open(\"test.txt\") as file_handler:\n",
    "    for line in file_handler:\n",
    "        print(line)\n",
    "Такой вариант написания закрывает файл \n",
    "       \n",
    "       \n",
    " Такой вариант не закрывает\n",
    " handle = open(\"test.txt\")"
   ]
  },
  {
   "cell_type": "markdown",
   "metadata": {},
   "source": [
    "line.strip()\n",
    "\n",
    "strip() удаляет лишнее, так как почти везде стоят /n удалять их нужно через strip() всегда\n",
    " "
   ]
  },
  {
   "cell_type": "markdown",
   "metadata": {},
   "source": [
    "\n",
    "Вариант открытия файла (без закрытия)\n",
    "\n",
    "fp = open('D:/DS-25/Pyton/Downloads/purchase_log.txt', 'r', encoding = 'utf-8') # открываем. файл не в рабочей директории, поэтому прописую путь полностью\n",
    "fp.readline() # читаю первую строчку \n",
    "for line_ in fp: # перебирсем строчки \n",
    "    line2 = json.loads(line_) # данной строкой возвращаем словарь \n",
    "    print(line2)"
   ]
  },
  {
   "cell_type": "markdown",
   "metadata": {},
   "source": [
    "Задача 2 \n",
    "\n",
    "Для каждого user_id в файле visit_log.csv определите третий столбец с категорией покупки (если покупка была, сам файл visit_log.csv изменять не надо). \n",
    "Запишите в файл funnel.csv визиты из файла visit_log.csv, в которых были покупки с указанием категории.\n",
    "\n",
    "Учтите условия на данные:\n",
    "содержимое purchase_log.txt помещается в оперативную память компьютера\n",
    "содержимое visit_log.csv - нет; используйте только построчную обработку этого файла"
   ]
  },
  {
   "cell_type": "code",
   "execution_count": 12,
   "metadata": {},
   "outputs": [
    {
     "ename": "UnicodeEncodeError",
     "evalue": "'charmap' codec can't encode characters in position 17-24: character maps to <undefined>",
     "output_type": "error",
     "traceback": [
      "\u001b[1;31m---------------------------------------------------------------------------\u001b[0m",
      "\u001b[1;31mUnicodeEncodeError\u001b[0m                        Traceback (most recent call last)",
      "\u001b[1;32m<ipython-input-12-afafbeadf40b>\u001b[0m in \u001b[0;36m<module>\u001b[1;34m\u001b[0m\n\u001b[0;32m     11\u001b[0m         \u001b[1;32melse\u001b[0m\u001b[1;33m:\u001b[0m\u001b[1;33m\u001b[0m\u001b[1;33m\u001b[0m\u001b[0m\n\u001b[0;32m     12\u001b[0m             \u001b[0madd_line\u001b[0m \u001b[1;33m=\u001b[0m \u001b[1;34m','\u001b[0m\u001b[1;33m.\u001b[0m\u001b[0mjoin\u001b[0m\u001b[1;33m(\u001b[0m\u001b[0mline_list\u001b[0m\u001b[1;33m)\u001b[0m\u001b[1;33m\u001b[0m\u001b[1;33m\u001b[0m\u001b[0m\n\u001b[1;32m---> 13\u001b[1;33m         \u001b[0mfunnel\u001b[0m\u001b[1;33m.\u001b[0m\u001b[0mwrite\u001b[0m\u001b[1;33m(\u001b[0m\u001b[0madd_line\u001b[0m \u001b[1;33m+\u001b[0m \u001b[1;34m'\\n'\u001b[0m\u001b[1;33m)\u001b[0m \u001b[1;31m# вставляем в новый файл\u001b[0m\u001b[1;33m\u001b[0m\u001b[1;33m\u001b[0m\u001b[0m\n\u001b[0m",
      "\u001b[1;32mD:\\apps\\Anaconda\\lib\\encodings\\cp1252.py\u001b[0m in \u001b[0;36mencode\u001b[1;34m(self, input, final)\u001b[0m\n\u001b[0;32m     17\u001b[0m \u001b[1;32mclass\u001b[0m \u001b[0mIncrementalEncoder\u001b[0m\u001b[1;33m(\u001b[0m\u001b[0mcodecs\u001b[0m\u001b[1;33m.\u001b[0m\u001b[0mIncrementalEncoder\u001b[0m\u001b[1;33m)\u001b[0m\u001b[1;33m:\u001b[0m\u001b[1;33m\u001b[0m\u001b[1;33m\u001b[0m\u001b[0m\n\u001b[0;32m     18\u001b[0m     \u001b[1;32mdef\u001b[0m \u001b[0mencode\u001b[0m\u001b[1;33m(\u001b[0m\u001b[0mself\u001b[0m\u001b[1;33m,\u001b[0m \u001b[0minput\u001b[0m\u001b[1;33m,\u001b[0m \u001b[0mfinal\u001b[0m\u001b[1;33m=\u001b[0m\u001b[1;32mFalse\u001b[0m\u001b[1;33m)\u001b[0m\u001b[1;33m:\u001b[0m\u001b[1;33m\u001b[0m\u001b[1;33m\u001b[0m\u001b[0m\n\u001b[1;32m---> 19\u001b[1;33m         \u001b[1;32mreturn\u001b[0m \u001b[0mcodecs\u001b[0m\u001b[1;33m.\u001b[0m\u001b[0mcharmap_encode\u001b[0m\u001b[1;33m(\u001b[0m\u001b[0minput\u001b[0m\u001b[1;33m,\u001b[0m\u001b[0mself\u001b[0m\u001b[1;33m.\u001b[0m\u001b[0merrors\u001b[0m\u001b[1;33m,\u001b[0m\u001b[0mencoding_table\u001b[0m\u001b[1;33m)\u001b[0m\u001b[1;33m[\u001b[0m\u001b[1;36m0\u001b[0m\u001b[1;33m]\u001b[0m\u001b[1;33m\u001b[0m\u001b[1;33m\u001b[0m\u001b[0m\n\u001b[0m\u001b[0;32m     20\u001b[0m \u001b[1;33m\u001b[0m\u001b[0m\n\u001b[0;32m     21\u001b[0m \u001b[1;32mclass\u001b[0m \u001b[0mIncrementalDecoder\u001b[0m\u001b[1;33m(\u001b[0m\u001b[0mcodecs\u001b[0m\u001b[1;33m.\u001b[0m\u001b[0mIncrementalDecoder\u001b[0m\u001b[1;33m)\u001b[0m\u001b[1;33m:\u001b[0m\u001b[1;33m\u001b[0m\u001b[1;33m\u001b[0m\u001b[0m\n",
      "\u001b[1;31mUnicodeEncodeError\u001b[0m: 'charmap' codec can't encode characters in position 17-24: character maps to <undefined>"
     ]
    }
   ],
   "source": [
    "with open('D:/DS-25/Pyton/Downloads/visit_log.csv', 'r') as visit_log, open('D:/DS-25/Pyton/Downloads/funnel.csv', 'w') as funnel:\n",
    "# открываем файл для чтения и заранее созданный файл для записи\n",
    "    for line in visit_log: # перебираем строчки\n",
    "        line_list = line.strip().split(',')  # преобразуем в список\n",
    "        if line_list[0] in new_dict.keys(): # если id из перебираемого списка visit_log.csv есть id в ключах созданого словаря\n",
    "            line_list.append(new_dict[line_list[0]]) # вставляем \n",
    "            add_line = ','.join(line_list) # джоиним все через запятые\n",
    "        elif line_list[0] == 'user_id': # если первая сторочка visit_log.csv = user_id\n",
    "            line_list.append('category') # вставляем category\n",
    "            add_line = ','.join(line_list) # джоиним все через запятые\n",
    "        else:\n",
    "            add_line = ','.join(line_list)\n",
    "        funnel.write(add_line + '\\n') # вставляем в новый файл "
   ]
  },
  {
   "cell_type": "code",
   "execution_count": null,
   "metadata": {},
   "outputs": [],
   "source": []
  }
 ],
 "metadata": {
  "kernelspec": {
   "display_name": "Python 3",
   "language": "python",
   "name": "python3"
  },
  "language_info": {
   "codemirror_mode": {
    "name": "ipython",
    "version": 3
   },
   "file_extension": ".py",
   "mimetype": "text/x-python",
   "name": "python",
   "nbconvert_exporter": "python",
   "pygments_lexer": "ipython3",
   "version": "3.7.6"
  }
 },
 "nbformat": 4,
 "nbformat_minor": 4
}
