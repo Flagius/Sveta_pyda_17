{
 "cells": [
  {
   "cell_type": "markdown",
   "metadata": {},
   "source": [
    "Задание 1\n",
    "Дана переменная, в которой хранится словарь, содержащий гео-метки для каждого пользователя (пример структуры данных приведен ниже). Вам необходимо написать программу, которая выведет на экран множество уникальных гео-меток всех пользователей.\n",
    "\n",
    "Пример работы программы:\n",
    "\n",
    "ids = {‘user1’: [213, 213, 213, 15, 213],\n",
    "‘user2’: [54, 54, 119, 119, 119],\n",
    "‘user3’: [213, 98, 98, 35]}\n",
    "Результат: {98, 35, 15, 213, 54, 119}"
   ]
  },
  {
   "cell_type": "code",
   "execution_count": null,
   "metadata": {},
   "outputs": [],
   "source": []
  },
  {
   "cell_type": "code",
   "execution_count": 2,
   "metadata": {},
   "outputs": [
    {
     "name": "stdout",
     "output_type": "stream",
     "text": [
      "213\n",
      "213\n",
      "213\n",
      "213\n",
      "15\n",
      "15\n",
      "213\n",
      "54\n",
      "54\n",
      "54\n",
      "119\n",
      "119\n",
      "119\n",
      "119\n",
      "213\n",
      "98\n",
      "98\n",
      "98\n",
      "35\n",
      "35\n",
      "{98, 35, 15, 213, 54, 119}\n"
     ]
    }
   ],
   "source": [
    "ids = {\"user1\": [213, 213, 213, 15, 213], \"user2\": [54, 54, 119, 119, 119], \"user3\": [213, 98, 98, 35]}\n",
    "list_1 = set() # пустое множество\n",
    "\n",
    "for val in ids.values(): # перебирает все значения словаря\n",
    "    for i in val:  # перебираем цифры из значения словаря\n",
    "        print(i)\n",
    "        if i in list_1:    # если число есть во множестве продолжаем \n",
    "            continue  \n",
    "        else:\n",
    "            list_1.add(i) # если числа нет во множестве, вставляем методом для множеств)\n",
    "        print(i)\n",
    "print(list_1)"
   ]
  },
  {
   "cell_type": "code",
   "execution_count": null,
   "metadata": {},
   "outputs": [],
   "source": [
    "Пометки для себя"
   ]
  },
  {
   "cell_type": "code",
   "execution_count": 1,
   "metadata": {},
   "outputs": [
    {
     "name": "stdout",
     "output_type": "stream",
     "text": [
      "213\n",
      "213\n",
      "213\n",
      "213\n",
      "15\n",
      "15\n",
      "213\n",
      "54\n",
      "54\n",
      "54\n",
      "119\n",
      "119\n",
      "119\n",
      "119\n",
      "213\n",
      "98\n",
      "98\n",
      "98\n",
      "35\n",
      "35\n",
      "[213, 15, 54, 119, 98, 35]\n"
     ]
    }
   ],
   "source": [
    "ids = {\"user1\": [213, 213, 213, 15, 213], \"user2\": [54, 54, 119, 119, 119], \"user3\": [213, 98, 98, 35]}\n",
    "list_1 = [] # пустой список\n",
    "for val in ids.values(): # перебирает все значения словаря\n",
    "    for i in val:  # перебираем цифры из значения словаря\n",
    "        print(i)\n",
    "        if i in list_1:    # если число есть во множестве продолжаем \n",
    "            continue  \n",
    "        else:\n",
    "            list_1.append(i) # если числа нет в список, вставляем методом для списка)\n",
    "        print(i)\n",
    "print(list_1)"
   ]
  },
  {
   "cell_type": "markdown",
   "metadata": {},
   "source": [
    "Задание 2\n",
    "Дана переменная, в которой хранится список поисковых запросов пользователя (пример структуры данных приведен ниже). Вам необходимо написать программу, которая выведет на экран распределение количества слов в запросах в требуемом виде.\n",
    "\n",
    "Пример работы программы:\n",
    "\n",
    "queries = [\n",
    "‘смотреть сериалы онлайн’,\n",
    "‘новости спорта’,\n",
    "‘афиша кино’,\n",
    "‘курс доллара’,\n",
    "‘сериалы этим летом’,\n",
    "‘курс по питону’,\n",
    "‘сериалы про спорт’,\n",
    "]\n",
    "Результат:\n",
    "\n",
    "Поисковых запросов, содержащих 2 слов(а): 42.86%\n",
    "Поисковых запросов, содержащих 3 слов(а): 57.14%"
   ]
  },
  {
   "cell_type": "code",
   "execution_count": 10,
   "metadata": {},
   "outputs": [
    {
     "name": "stdout",
     "output_type": "stream",
     "text": [
      "7\n",
      "{'Слова длины, содержащих 3': 4, 'Слова длины, содержащих 2': 3}\n",
      "Слова длины, содержащих 3 слов(а): 57.14 %\n",
      "Слова длины, содержащих 2 слов(а): 42.86 %\n"
     ]
    }
   ],
   "source": [
    "queries =  [\"смотреть сериалы онлайн\", \"новости спорта\", \"афиша кино\", \"курс доллара\", \"сериалы этим летом\", \"курс по питону\", \"сериалы про спорт\"]\n",
    "List_2 = {}\n",
    "\n",
    "len_queries = len(queries)\n",
    "print(len_queries)\n",
    "\n",
    "dct_count_of_words = {}    #Создаем словарь, где ключ - это длина запроса, а значение - это кол-во этих самых запросов\n",
    "for elem in queries:\n",
    "    temp_arr = elem.split() # преобразовываем строку в список\n",
    "    len_arr = len(temp_arr)  # узнаем длину строки (ключ)\n",
    "    temp_str = 'Слова длины, содержащих ' + str(len_arr)\n",
    "    if temp_str not in dct_count_of_words:   # так как длина строки это ключ перебираем \n",
    "        dct_count_of_words[temp_str] = 0  #создаем счетчик\n",
    "    dct_count_of_words[temp_str] += 1 #увеличиваем счетчик\n",
    "print(dct_count_of_words) \n",
    "\n",
    "\n",
    "for key, value in dct_count_of_words.items():\n",
    "    print(key + ' слов(а): ' + str(round(value / len_queries * 100, 2)) + ' %')\n"
   ]
  },
  {
   "cell_type": "markdown",
   "metadata": {},
   "source": [
    "Пометки для себя"
   ]
  },
  {
   "cell_type": "code",
   "execution_count": null,
   "metadata": {},
   "outputs": [],
   "source": [
    "#Если строка, то первый элемент - это буква, но мы можем строчку преобразовать в массив через split\n",
    "#Если список, то первый элемент - это первый элемент\n",
    "#Если словарь, то первый элемент - это ключ\n",
    "#Ключ - это длина запроса, а значение - это сколько раз запрос с данной длинной встретился dct = {2: 3, 3: 4}"
   ]
  },
  {
   "cell_type": "code",
   "execution_count": 8,
   "metadata": {},
   "outputs": [
    {
     "name": "stdout",
     "output_type": "stream",
     "text": [
      "['aaabbcc']\n",
      "1\n"
     ]
    }
   ],
   "source": [
    "strr_of_words = \"aaabbcc\"\n",
    "arr = strr_of_words.split(' ')\n",
    "print(arr)\n",
    "print(len(arr))\n",
    " \n",
    "# разбивает строку по разделителю, здесь нет разделителя, поэтому 1 элемент\n",
    "\n"
   ]
  },
  {
   "cell_type": "code",
   "execution_count": 9,
   "metadata": {},
   "outputs": [
    {
     "name": "stdout",
     "output_type": "stream",
     "text": [
      "['aaa', ' bb', ' cc']\n",
      "3\n"
     ]
    }
   ],
   "source": [
    "strr_of_words = \"aaa, bb, cc\"\n",
    "arr = strr_of_words.split(',')\n",
    "print(arr)\n",
    "print(len(arr))\n",
    "\n",
    "# разбивает строку по разделителю, здесь есть разделитель, поэтому 3 элемента\n"
   ]
  },
  {
   "cell_type": "markdown",
   "metadata": {},
   "source": [
    "Задание 3\n",
    "Дана переменная, в которой хранится информация о затратах и доходе рекламных кампаний по различным источникам. Необходимо дополнить исходную структуру показателем ROI, который рассчитаем по формуле: (revenue / cost - 1) * 100\n",
    "\n",
    "Пример работы программы:\n",
    "\n",
    "results = {\n",
    "‘vk’: {‘revenue’: 103, ‘cost’: 98},\n",
    "‘yandex’: {‘revenue’: 179, ‘cost’: 153},\n",
    "‘facebook’: {‘revenue’: 103, ‘cost’: 110},\n",
    "‘adwords’: {‘revenue’: 35, ‘cost’: 34},\n",
    "‘twitter’: {‘revenue’: 11, ‘cost’: 24},\n",
    "}\n",
    "Результат:\n",
    "\n",
    "{‘adwords’: {‘ROI’: 2.94, ‘cost’: 34, ‘revenue’: 35},\n",
    "‘facebook’: {‘ROI’: -6.36, ‘cost’: 110, ‘revenue’: 103},\n",
    "‘twitter’: {‘ROI’: -54.17, ‘cost’: 24, ‘revenue’: 11},\n",
    "‘vk’: {‘ROI’: 5.1, ‘cost’: 98, ‘revenue’: 103},\n",
    "‘yandex’: {‘ROI’: 16.99, ‘cost’: 153, ‘revenue’: 179}}"
   ]
  },
  {
   "cell_type": "code",
   "execution_count": 60,
   "metadata": {},
   "outputs": [
    {
     "name": "stdout",
     "output_type": "stream",
     "text": [
      "vk {'revenue': 103, 'cost': 98, 'ROI': 5.1}\n",
      "yandex {'revenue': 179, 'cost': 153, 'ROI': 16.99}\n",
      "facebook {'revenue': 103, 'cost': 110, 'ROI': -6.36}\n",
      "adwords {'revenue': 35, 'cost': 34, 'ROI': 2.94}\n",
      "twitter {'revenue': 11, 'cost': 24, 'ROI': -54.17}\n"
     ]
    }
   ],
   "source": [
    "results = {\n",
    "'vk': {'revenue': 103, 'cost': 98},\n",
    "'yandex': {'revenue': 179, 'cost': 153},\n",
    "'facebook': {'revenue': 103, 'cost': 110},\n",
    "'adwords': {'revenue': 35, 'cost': 34},\n",
    "'twitter': {'revenue': 11, 'cost': 24},\n",
    "}\n",
    "\n",
    "for key, value in results.items(): # в словаре перебираем ключи и значения   \n",
    "        #print('revenue', value['revenue'])\n",
    "    #print('cost', value['cost'])   добавляем новое значение в словарь, ключ, значение Ключ новый ROI значение формула\n",
    "    value['ROI'] = round(((value['revenue'] / value['cost']) - 1)*100 , 2)   # А тут по элементу обращаемся.  \n",
    "    #print('ROI', value['ROI'])       \n",
    "\n",
    "    print(key, value)"
   ]
  },
  {
   "cell_type": "code",
   "execution_count": null,
   "metadata": {},
   "outputs": [],
   "source": [
    "Заметки Для себя"
   ]
  },
  {
   "cell_type": "code",
   "execution_count": 59,
   "metadata": {},
   "outputs": [
    {
     "name": "stdout",
     "output_type": "stream",
     "text": [
      "vk {'revenue': 103, 'cost': 98}\n",
      "yandex {'revenue': 179, 'cost': 153}\n",
      "facebook {'revenue': 103, 'cost': 110}\n",
      "adwords {'revenue': 35, 'cost': 34}\n",
      "twitter {'revenue': 11, 'cost': 24}\n"
     ]
    }
   ],
   "source": [
    "results = {\n",
    "'vk': {'revenue': 103, 'cost': 98},\n",
    "'yandex': {'revenue': 179, 'cost': 153},\n",
    "'facebook': {'revenue': 103, 'cost': 110},\n",
    "'adwords': {'revenue': 35, 'cost': 34},\n",
    "'twitter': {'revenue': 11, 'cost': 24},\n",
    "}\n",
    "\n",
    "for key, value in results.items(): # в словаре перебираем ключи и значения\n",
    "    print(key, value)"
   ]
  },
  {
   "cell_type": "code",
   "execution_count": null,
   "metadata": {},
   "outputs": [],
   "source": []
  },
  {
   "cell_type": "markdown",
   "metadata": {},
   "source": [
    "Задание 4\n",
    "Дана переменная, в которой хранится статистика рекламных каналов по объемам продаж (пример структуры данных приведен ниже). Напишите программу, которая возвращает название канала с максимальным объемом продаж.\n",
    "\n",
    "Пример работы программы:\n",
    "\n",
    "stats = {‘facebook’: 55, ‘yandex’: 115, ‘vk’: 120, ‘google’: 99, ‘email’: 42, ‘ok’: 98}\n",
    "\n",
    "Результат: Максимальный объем продаж на рекламном канале: vk"
   ]
  },
  {
   "cell_type": "code",
   "execution_count": 24,
   "metadata": {},
   "outputs": [
    {
     "name": "stdout",
     "output_type": "stream",
     "text": [
      "vk\n"
     ]
    }
   ],
   "source": [
    "stats = {\"facebook\": 55, \"yandex\": 115, \"vk\": 120, \"google\": 99, \"email\": 42, \"ok\": 98}\n",
    "\n",
    "value_key = [(value, key) for key, value in stats.items()]\n",
    "print(max(value_key)[1]) # находим максимальное значение и выводим второй элемент (компанию)"
   ]
  },
  {
   "cell_type": "code",
   "execution_count": null,
   "metadata": {},
   "outputs": [],
   "source": [
    "Заметки для себя"
   ]
  },
  {
   "cell_type": "code",
   "execution_count": 16,
   "metadata": {},
   "outputs": [
    {
     "name": "stdout",
     "output_type": "stream",
     "text": [
      "[(55, 'facebook'), (115, 'yandex'), (120, 'vk'), (99, 'google'), (42, 'email'), (98, 'ok')]\n"
     ]
    }
   ],
   "source": [
    "stats = {\"facebook\": 55, \"yandex\": 115, \"vk\": 120, \"google\": 99, \"email\": 42, \"ok\": 98}\n",
    "\n",
    "inverse = [(value, key) for key, value in stats.items()]  # items разбивает элемент на ключ и значения, которые хранятся\n",
    "print(inverse) # value and  key. До for написана операция, что с ними делать ( выводить ключ и значение как список)"
   ]
  }
 ],
 "metadata": {
  "kernelspec": {
   "display_name": "Python 3",
   "language": "python",
   "name": "python3"
  },
  "language_info": {
   "codemirror_mode": {
    "name": "ipython",
    "version": 3
   },
   "file_extension": ".py",
   "mimetype": "text/x-python",
   "name": "python",
   "nbconvert_exporter": "python",
   "pygments_lexer": "ipython3",
   "version": "3.7.6"
  }
 },
 "nbformat": 4,
 "nbformat_minor": 4
}
